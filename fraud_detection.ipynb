{
  "nbformat": 4,
  "nbformat_minor": 0,
  "metadata": {
    "colab": {
      "name": "fraud_detection.ipynb",
      "version": "0.3.2",
      "provenance": []
    },
    "kernelspec": {
      "name": "python3",
      "display_name": "Python 3"
    }
  },
  "cells": [
    {
      "cell_type": "code",
      "metadata": {
        "id": "0gn7A6kmu_Np",
        "colab_type": "code",
        "colab": {}
      },
      "source": [
        "import numpy as np\n",
        "import sklearn as sk\n",
        "import pandas as pd\n",
        "import matplotlib.pyplot as plt\n",
        "import seaborn as sns\n",
        "from sklearn.preprocessing import scale\n",
        "import random\n",
        "\n"
      ],
      "execution_count": 0,
      "outputs": []
    },
    {
      "cell_type": "code",
      "metadata": {
        "id": "G10NT6KnEPAN",
        "colab_type": "code",
        "colab": {}
      },
      "source": [
        "!pip install -U -q PyDrive\n",
        "from pydrive.auth import GoogleAuth\n",
        "from pydrive.drive import GoogleDrive\n",
        "from google.colab import auth\n",
        "from oauth2client.client import GoogleCredentials\n",
        "# Authenticate and create the PyDrive client.\n",
        "auth.authenticate_user()\n",
        "gauth = GoogleAuth()\n",
        "gauth.credentials = GoogleCredentials.get_application_default()\n",
        "drive = GoogleDrive(gauth)"
      ],
      "execution_count": 0,
      "outputs": []
    },
    {
      "cell_type": "code",
      "metadata": {
        "id": "wIZlBKMnEwPC",
        "colab_type": "code",
        "outputId": "16ff03cb-b383-40a7-fea7-fcc024faea81",
        "colab": {
          "base_uri": "https://localhost:8080/",
          "height": 34
        }
      },
      "source": [
        "link = 'https://drive.google.com/open?id=1uQKDwP6OI-gGGu_s7J8zo8zyOoImzEEa'\n",
        "fluff, id = link.split('=')\n",
        "print (id) # Verify that you have everything after '='"
      ],
      "execution_count": 33,
      "outputs": [
        {
          "output_type": "stream",
          "text": [
            "1uQKDwP6OI-gGGu_s7J8zo8zyOoImzEEa\n"
          ],
          "name": "stdout"
        }
      ]
    },
    {
      "cell_type": "code",
      "metadata": {
        "id": "Oe8fGugVFAF6",
        "colab_type": "code",
        "outputId": "2d74a9ab-924e-42b3-ee43-cabc60b1c286",
        "colab": {
          "base_uri": "https://localhost:8080/",
          "height": 224
        }
      },
      "source": [
        "downloaded = drive.CreateFile({'id':id}) \n",
        "downloaded.GetContentFile('Filename.csv')  \n",
        "df = pd.read_csv('Filename.csv')\n",
        "df = df.sample(frac=1).reset_index(drop=True)\n",
        "df.head()\n",
        "# Dataset is now stored in a Pandas Dataframe"
      ],
      "execution_count": 37,
      "outputs": [
        {
          "output_type": "execute_result",
          "data": {
            "text/html": [
              "<div>\n",
              "<style scoped>\n",
              "    .dataframe tbody tr th:only-of-type {\n",
              "        vertical-align: middle;\n",
              "    }\n",
              "\n",
              "    .dataframe tbody tr th {\n",
              "        vertical-align: top;\n",
              "    }\n",
              "\n",
              "    .dataframe thead th {\n",
              "        text-align: right;\n",
              "    }\n",
              "</style>\n",
              "<table border=\"1\" class=\"dataframe\">\n",
              "  <thead>\n",
              "    <tr style=\"text-align: right;\">\n",
              "      <th></th>\n",
              "      <th>Time</th>\n",
              "      <th>V1</th>\n",
              "      <th>V2</th>\n",
              "      <th>V3</th>\n",
              "      <th>V4</th>\n",
              "      <th>V5</th>\n",
              "      <th>V6</th>\n",
              "      <th>V7</th>\n",
              "      <th>V8</th>\n",
              "      <th>V9</th>\n",
              "      <th>V10</th>\n",
              "      <th>V11</th>\n",
              "      <th>V12</th>\n",
              "      <th>V13</th>\n",
              "      <th>V14</th>\n",
              "      <th>V15</th>\n",
              "      <th>V16</th>\n",
              "      <th>V17</th>\n",
              "      <th>V18</th>\n",
              "      <th>V19</th>\n",
              "      <th>V20</th>\n",
              "      <th>V21</th>\n",
              "      <th>V22</th>\n",
              "      <th>V23</th>\n",
              "      <th>V24</th>\n",
              "      <th>V25</th>\n",
              "      <th>V26</th>\n",
              "      <th>V27</th>\n",
              "      <th>V28</th>\n",
              "      <th>Amount</th>\n",
              "      <th>Class</th>\n",
              "    </tr>\n",
              "  </thead>\n",
              "  <tbody>\n",
              "    <tr>\n",
              "      <th>0</th>\n",
              "      <td>62989.0</td>\n",
              "      <td>-3.004111</td>\n",
              "      <td>-2.181492</td>\n",
              "      <td>1.245721</td>\n",
              "      <td>-2.995346</td>\n",
              "      <td>-0.742657</td>\n",
              "      <td>-1.719837</td>\n",
              "      <td>0.030631</td>\n",
              "      <td>0.570375</td>\n",
              "      <td>2.066912</td>\n",
              "      <td>-2.873141</td>\n",
              "      <td>-1.053554</td>\n",
              "      <td>0.110220</td>\n",
              "      <td>-1.520418</td>\n",
              "      <td>0.335809</td>\n",
              "      <td>0.718468</td>\n",
              "      <td>-0.084426</td>\n",
              "      <td>-0.337126</td>\n",
              "      <td>0.757427</td>\n",
              "      <td>-0.611400</td>\n",
              "      <td>0.839346</td>\n",
              "      <td>0.487897</td>\n",
              "      <td>0.385978</td>\n",
              "      <td>0.222047</td>\n",
              "      <td>0.366799</td>\n",
              "      <td>0.954124</td>\n",
              "      <td>-0.885307</td>\n",
              "      <td>0.133746</td>\n",
              "      <td>-0.191613</td>\n",
              "      <td>285.54</td>\n",
              "      <td>0</td>\n",
              "    </tr>\n",
              "    <tr>\n",
              "      <th>1</th>\n",
              "      <td>67698.0</td>\n",
              "      <td>-0.874225</td>\n",
              "      <td>0.925399</td>\n",
              "      <td>1.690622</td>\n",
              "      <td>1.333660</td>\n",
              "      <td>1.082540</td>\n",
              "      <td>-0.276047</td>\n",
              "      <td>0.661013</td>\n",
              "      <td>0.092712</td>\n",
              "      <td>-1.629434</td>\n",
              "      <td>0.220514</td>\n",
              "      <td>0.660649</td>\n",
              "      <td>0.434644</td>\n",
              "      <td>0.409210</td>\n",
              "      <td>0.259696</td>\n",
              "      <td>-0.861283</td>\n",
              "      <td>0.991977</td>\n",
              "      <td>-1.233623</td>\n",
              "      <td>0.501306</td>\n",
              "      <td>-1.142804</td>\n",
              "      <td>-0.011960</td>\n",
              "      <td>0.276988</td>\n",
              "      <td>0.595321</td>\n",
              "      <td>-0.307900</td>\n",
              "      <td>0.027339</td>\n",
              "      <td>0.253701</td>\n",
              "      <td>-0.006557</td>\n",
              "      <td>0.047201</td>\n",
              "      <td>0.105799</td>\n",
              "      <td>3.80</td>\n",
              "      <td>0</td>\n",
              "    </tr>\n",
              "    <tr>\n",
              "      <th>2</th>\n",
              "      <td>147485.0</td>\n",
              "      <td>-1.591705</td>\n",
              "      <td>-0.756838</td>\n",
              "      <td>-0.128785</td>\n",
              "      <td>1.512883</td>\n",
              "      <td>3.137825</td>\n",
              "      <td>-0.837095</td>\n",
              "      <td>-0.502464</td>\n",
              "      <td>0.184370</td>\n",
              "      <td>-0.628946</td>\n",
              "      <td>-0.879718</td>\n",
              "      <td>0.260570</td>\n",
              "      <td>-0.001402</td>\n",
              "      <td>0.232498</td>\n",
              "      <td>-1.718248</td>\n",
              "      <td>0.650499</td>\n",
              "      <td>-0.574362</td>\n",
              "      <td>1.920908</td>\n",
              "      <td>1.878347</td>\n",
              "      <td>3.586614</td>\n",
              "      <td>0.957002</td>\n",
              "      <td>-0.010881</td>\n",
              "      <td>-0.368146</td>\n",
              "      <td>-0.250779</td>\n",
              "      <td>-1.519167</td>\n",
              "      <td>0.861570</td>\n",
              "      <td>0.343089</td>\n",
              "      <td>0.043316</td>\n",
              "      <td>0.136746</td>\n",
              "      <td>30.00</td>\n",
              "      <td>0</td>\n",
              "    </tr>\n",
              "    <tr>\n",
              "      <th>3</th>\n",
              "      <td>73711.0</td>\n",
              "      <td>-0.842670</td>\n",
              "      <td>1.401843</td>\n",
              "      <td>0.927235</td>\n",
              "      <td>1.070402</td>\n",
              "      <td>0.843883</td>\n",
              "      <td>0.467333</td>\n",
              "      <td>0.366716</td>\n",
              "      <td>0.616739</td>\n",
              "      <td>-1.586963</td>\n",
              "      <td>0.000041</td>\n",
              "      <td>-0.409240</td>\n",
              "      <td>0.139799</td>\n",
              "      <td>0.319222</td>\n",
              "      <td>0.538952</td>\n",
              "      <td>-0.760940</td>\n",
              "      <td>1.572230</td>\n",
              "      <td>-1.475274</td>\n",
              "      <td>0.748143</td>\n",
              "      <td>-0.725295</td>\n",
              "      <td>-0.208826</td>\n",
              "      <td>0.036573</td>\n",
              "      <td>-0.182581</td>\n",
              "      <td>-0.226834</td>\n",
              "      <td>-1.029794</td>\n",
              "      <td>-0.118762</td>\n",
              "      <td>-0.228960</td>\n",
              "      <td>-0.024250</td>\n",
              "      <td>0.046547</td>\n",
              "      <td>1.00</td>\n",
              "      <td>0</td>\n",
              "    </tr>\n",
              "    <tr>\n",
              "      <th>4</th>\n",
              "      <td>55013.0</td>\n",
              "      <td>1.240524</td>\n",
              "      <td>0.198105</td>\n",
              "      <td>0.396619</td>\n",
              "      <td>0.426003</td>\n",
              "      <td>-0.250803</td>\n",
              "      <td>-0.475057</td>\n",
              "      <td>-0.040423</td>\n",
              "      <td>-0.043496</td>\n",
              "      <td>-0.208514</td>\n",
              "      <td>0.100318</td>\n",
              "      <td>1.203992</td>\n",
              "      <td>1.006626</td>\n",
              "      <td>0.398654</td>\n",
              "      <td>0.394099</td>\n",
              "      <td>0.343683</td>\n",
              "      <td>0.591116</td>\n",
              "      <td>-0.800990</td>\n",
              "      <td>0.048141</td>\n",
              "      <td>0.295203</td>\n",
              "      <td>-0.063978</td>\n",
              "      <td>-0.226240</td>\n",
              "      <td>-0.684318</td>\n",
              "      <td>0.081417</td>\n",
              "      <td>-0.004547</td>\n",
              "      <td>0.235403</td>\n",
              "      <td>0.097383</td>\n",
              "      <td>-0.032628</td>\n",
              "      <td>0.005736</td>\n",
              "      <td>1.98</td>\n",
              "      <td>0</td>\n",
              "    </tr>\n",
              "  </tbody>\n",
              "</table>\n",
              "</div>"
            ],
            "text/plain": [
              "       Time        V1        V2        V3  ...       V27       V28  Amount  Class\n",
              "0   62989.0 -3.004111 -2.181492  1.245721  ...  0.133746 -0.191613  285.54      0\n",
              "1   67698.0 -0.874225  0.925399  1.690622  ...  0.047201  0.105799    3.80      0\n",
              "2  147485.0 -1.591705 -0.756838 -0.128785  ...  0.043316  0.136746   30.00      0\n",
              "3   73711.0 -0.842670  1.401843  0.927235  ... -0.024250  0.046547    1.00      0\n",
              "4   55013.0  1.240524  0.198105  0.396619  ... -0.032628  0.005736    1.98      0\n",
              "\n",
              "[5 rows x 31 columns]"
            ]
          },
          "metadata": {
            "tags": []
          },
          "execution_count": 37
        }
      ]
    },
    {
      "cell_type": "code",
      "metadata": {
        "id": "AeavfJE1yojf",
        "colab_type": "code",
        "outputId": "34d39aab-33ff-4915-c9ea-989f7be8d14e",
        "colab": {
          "base_uri": "https://localhost:8080/",
          "height": 51
        }
      },
      "source": [
        "fraud = df.loc[df['Class'] == 1]\n",
        "non_frauds = df.loc[df['Class'] == 0]\n",
        "print(len(fraud))\n",
        "print(len(non_frauds))"
      ],
      "execution_count": 38,
      "outputs": [
        {
          "output_type": "stream",
          "text": [
            "492\n",
            "284315\n"
          ],
          "name": "stdout"
        }
      ]
    },
    {
      "cell_type": "code",
      "metadata": {
        "id": "Ylaf6f8cy6as",
        "colab_type": "code",
        "colab": {
          "base_uri": "https://localhost:8080/",
          "height": 369
        },
        "outputId": "494b9df9-bf1f-473a-fc8f-9d835750c21a"
      },
      "source": [
        "sns.set_style(\"whitegrid\")\n",
        "example = sns.catplot(x='Class', y='Amount', hue='Class', data=df)\n",
        "plt.show()\n"
      ],
      "execution_count": 46,
      "outputs": [
        {
          "output_type": "display_data",
          "data": {
            "image/png": "[encoded data removed]",
            "text/plain": [
              "<Figure size 360x360 with 1 Axes>"
            ]
          },
          "metadata": {
            "tags": []
          }
        }
      ]
    },
    {
      "cell_type": "code",
      "metadata": {
        "id": "YVhOYv3jT8tJ",
        "colab_type": "code",
        "colab": {
          "base_uri": "https://localhost:8080/",
          "height": 283
        },
        "outputId": "d6536f92-1297-453f-9cd2-ed750fcdd557"
      },
      "source": [
        "\n",
        "ax = fraud.plot.scatter(x='Amount', y='Class', color='Orange', label='Fraud')\n",
        "non_frauds.plot.scatter(x='Amount', y='Class', color='Blue', label='Normal', ax=ax)\n",
        "plt.show()"
      ],
      "execution_count": 40,
      "outputs": [
        {
          "output_type": "display_data",
          "data": {
            "image/png": "[encoded data removed]",
            "text/plain": [
              "<Figure size 432x288 with 1 Axes>"
            ]
          },
          "metadata": {
            "tags": []
          }
        }
      ]
    },
    {
      "cell_type": "code",
      "metadata": {
        "id": "nRcCmHEI1xht",
        "colab_type": "code",
        "colab": {}
      },
      "source": [
        " from sklearn import linear_model\n",
        " from sklearn.model_selection import train_test_split"
      ],
      "execution_count": 0,
      "outputs": []
    },
    {
      "cell_type": "code",
      "metadata": {
        "id": "3qTLylLx23HM",
        "colab_type": "code",
        "colab": {}
      },
      "source": [
        "x = df.iloc[:, :-1]\n",
        "y = df['Class']\n",
        "\n",
        "X_train, X_test, y_train, y_test = train_test_split(x, y, test_size=0.35)"
      ],
      "execution_count": 0,
      "outputs": []
    },
    {
      "cell_type": "code",
      "metadata": {
        "id": "hQgoKl443azx",
        "colab_type": "code",
        "outputId": "32fb38ff-1410-4f24-ea7e-59fedcbbdc28",
        "colab": {
          "base_uri": "https://localhost:8080/",
          "height": 87
        }
      },
      "source": [
        "logistic = linear_model.LogisticRegression(C=1e5)\n",
        "logistic.fit(X_train, y_train)\n",
        "print('Score:', logistic.score(X_test, y_test))"
      ],
      "execution_count": 0,
      "outputs": [
        {
          "output_type": "stream",
          "text": [
            "/usr/local/lib/python3.6/dist-packages/sklearn/linear_model/logistic.py:432: FutureWarning: Default solver will be changed to 'lbfgs' in 0.22. Specify a solver to silence this warning.\n",
            "  FutureWarning)\n"
          ],
          "name": "stderr"
        },
        {
          "output_type": "stream",
          "text": [
            "Score: 0.9989265973134838\n"
          ],
          "name": "stdout"
        }
      ]
    },
    {
      "cell_type": "code",
      "metadata": {
        "id": "zbO8ZYVa303F",
        "colab_type": "code",
        "outputId": "b84a585a-325e-4b67-b607-3b195198ed9a",
        "colab": {
          "base_uri": "https://localhost:8080/",
          "height": 34
        }
      },
      "source": [
        "y_predicted = np.array(logistic.predict(X_test))\n",
        "print(y_predicted)"
      ],
      "execution_count": 0,
      "outputs": [
        {
          "output_type": "stream",
          "text": [
            "[0 0 0 ... 0 0 0]\n"
          ],
          "name": "stdout"
        }
      ]
    }
  ]
}